{
  "nbformat": 4,
  "nbformat_minor": 0,
  "metadata": {
    "colab": {
      "provenance": [],
      "authorship_tag": "ABX9TyNk+PWy7Cb3Shi1r41bDbUQ",
      "include_colab_link": true
    },
    "kernelspec": {
      "name": "python3",
      "display_name": "Python 3"
    },
    "language_info": {
      "name": "python"
    }
  },
  "cells": [
    {
      "cell_type": "markdown",
      "metadata": {
        "id": "view-in-github",
        "colab_type": "text"
      },
      "source": [
        "<a href=\"https://colab.research.google.com/github/Punithmanu/weather/blob/main/weather2.ipynb\" target=\"_parent\"><img src=\"https://colab.research.google.com/assets/colab-badge.svg\" alt=\"Open In Colab\"/></a>"
      ]
    },
    {
      "cell_type": "code",
      "execution_count": 7,
      "metadata": {
        "colab": {
          "base_uri": "https://localhost:8080/"
        },
        "id": "MKBPjTtUWP5Q",
        "outputId": "9d167cf8-aded-41ec-83ec-46fd0bce702a"
      },
      "outputs": [
        {
          "output_type": "stream",
          "name": "stdout",
          "text": [
            "Enter the city name (e.g., London): London\n",
            "1. Get weather\n",
            "2. Get Wind Speed\n",
            "3. Get Pressure\n",
            "0. Exit\n",
            "Enter your choice: 1\n",
            "Enter the date (YYYY-MM-DD): 2019-03-27\n",
            "The temperature on 2019-03-27 is 278.76°K\n",
            "1. Get weather\n",
            "2. Get Wind Speed\n",
            "3. Get Pressure\n",
            "0. Exit\n",
            "Enter your choice: 2\n",
            "Enter the date (YYYY-MM-DD): 2019-03-28\n",
            "The wind speed on 2019-03-28 is 1.13 m/s\n",
            "1. Get weather\n",
            "2. Get Wind Speed\n",
            "3. Get Pressure\n",
            "0. Exit\n",
            "Enter your choice: 3\n",
            "Enter the date (YYYY-MM-DD): 2019-03-30\n",
            "The pressure on 2019-03-30 is 1029.659 hPa\n",
            "1. Get weather\n",
            "2. Get Wind Speed\n",
            "3. Get Pressure\n",
            "0. Exit\n",
            "Enter your choice: 0\n",
            "Exiting the program.\n"
          ]
        }
      ],
      "source": [
        "import requests\n",
        "\n",
        "API_KEY = \"YOUR_OPENWEATHERMAP_API_KEY\"\n",
        "BASE_URL = \"https://samples.openweathermap.org/data/2.5/forecast/hourly?q=London,us&appid=b6907d289e10d714a6e88b30761fae22\"\n",
        "\n",
        "def get_weather_data(city_name):\n",
        "    params = {\"q\": city_name, \"appid\": API_KEY}\n",
        "    response = requests.get(BASE_URL, params=params)\n",
        "    return response.json()\n",
        "\n",
        "def get_weather_by_date(data, date):\n",
        "    for forecast in data[\"list\"]:\n",
        "        if forecast[\"dt_txt\"].startswith(date):\n",
        "            return forecast[\"main\"][\"temp\"]\n",
        "    return None\n",
        "\n",
        "def get_wind_speed_by_date(data, date):\n",
        "    for forecast in data[\"list\"]:\n",
        "        if forecast[\"dt_txt\"].startswith(date):\n",
        "            return forecast[\"wind\"][\"speed\"]\n",
        "    return None\n",
        "\n",
        "def get_pressure_by_date(data, date):\n",
        "    for forecast in data[\"list\"]:\n",
        "        if forecast[\"dt_txt\"].startswith(date):\n",
        "            return forecast[\"main\"][\"pressure\"]\n",
        "    return None\n",
        "\n",
        "def main():\n",
        "    city_name = input(\"Enter the city name (e.g., London): \")\n",
        "    data = get_weather_data(city_name)\n",
        "\n",
        "    while True:\n",
        "        print(\"1. Get weather\")\n",
        "        print(\"2. Get Wind Speed\")\n",
        "        print(\"3. Get Pressure\")\n",
        "        print(\"0. Exit\")\n",
        "        choice = int(input(\"Enter your choice: \"))\n",
        "\n",
        "        if choice == 1:\n",
        "            date = input(\"Enter the date (YYYY-MM-DD): \")\n",
        "            temp = get_weather_by_date(data, date)\n",
        "            if temp is not None:\n",
        "                print(f\"The temperature on {date} is {temp}°K\")\n",
        "            else:\n",
        "                print(\"Data not found for the given date.\")\n",
        "        elif choice == 2:\n",
        "            date = input(\"Enter the date (YYYY-MM-DD): \")\n",
        "            wind_speed = get_wind_speed_by_date(data, date)\n",
        "            if wind_speed is not None:\n",
        "                print(f\"The wind speed on {date} is {wind_speed} m/s\")\n",
        "            else:\n",
        "                print(\"Data not found for the given date.\")\n",
        "        elif choice == 3:\n",
        "            date = input(\"Enter the date (YYYY-MM-DD): \")\n",
        "            pressure = get_pressure_by_date(data, date)\n",
        "            if pressure is not None:\n",
        "                print(f\"The pressure on {date} is {pressure} hPa\")\n",
        "            else:\n",
        "                print(\"Data not found for the given date.\")\n",
        "        elif choice == 0:\n",
        "            print(\"Exiting the program.\")\n",
        "            break\n",
        "        else:\n",
        "            print(\"Invalid choice. Please try again.\")\n",
        "\n",
        "if __name__ == \"__main__\":\n",
        "    main()\n"
      ]
    }
  ]
}